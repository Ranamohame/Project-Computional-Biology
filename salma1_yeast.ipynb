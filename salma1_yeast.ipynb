{
 "cells": [
  {
   "cell_type": "code",
   "execution_count": 1,
   "id": "fdce1d88",
   "metadata": {
    "ExecuteTime": {
     "end_time": "2022-01-07T19:38:53.238501Z",
     "start_time": "2022-01-07T19:38:48.890095Z"
    }
   },
   "outputs": [],
   "source": [
    "from pyopenms import *\n",
    "import matplotlib.pyplot as plt"
   ]
  },
  {
   "cell_type": "code",
   "execution_count": 2,
   "id": "8c4441a7",
   "metadata": {
    "ExecuteTime": {
     "end_time": "2022-01-07T19:39:23.482372Z",
     "start_time": "2022-01-07T19:39:23.467376Z"
    }
   },
   "outputs": [],
   "source": [
    "def mirror_plot(obs_mz, obs_int, theo_mz, theo_int, title):\n",
    "    \n",
    "    obs_int = [element / max(obs_int) for element in obs_int]  # relative intenstiy\n",
    "    theo_int = [element * -1 for element in theo_int]  # invert the intensity for the mirror plot\n",
    "    plt.figure(figsize=(12, 8))\n",
    "    plt.bar(obs_mz, obs_int, width=3.0)\n",
    "    plt.bar(theo_mz, theo_int, width=3.0)\n",
    "    plt.title(title)\n",
    "    plt.ylabel('intensity')\n",
    "    plt.xlabel('m/z')\n",
    "    plt.show()"
   ]
  },
  {
   "cell_type": "code",
   "execution_count": 13,
   "id": "318f8844",
   "metadata": {
    "ExecuteTime": {
     "end_time": "2022-01-07T19:53:44.667649Z",
     "start_time": "2022-01-07T19:53:27.409820Z"
    }
   },
   "outputs": [],
   "source": [
    "protein_ids = []\n",
    "peptide_ids = []\n",
    "SimpleSearchEngineAlgorithm().search(\"ea07036.mzML\",\"yeast.fasta\", protein_ids, peptide_ids)"
   ]
  },
  {
   "cell_type": "code",
   "execution_count": 14,
   "id": "3fb4ee48",
   "metadata": {
    "ExecuteTime": {
     "end_time": "2022-01-07T19:53:47.877952Z",
     "start_time": "2022-01-07T19:53:47.859005Z"
    }
   },
   "outputs": [
    {
     "name": "stdout",
     "output_type": "stream",
     "text": [
      "4 1\n"
     ]
    }
   ],
   "source": [
    "print(len(peptide_ids),len(protein_ids))"
   ]
  },
  {
   "cell_type": "code",
   "execution_count": 15,
   "id": "f34a0a5e",
   "metadata": {
    "ExecuteTime": {
     "end_time": "2022-01-07T19:55:31.654823Z",
     "start_time": "2022-01-07T19:54:01.435967Z"
    }
   },
   "outputs": [
    {
     "name": "stdout",
     "output_type": "stream",
     "text": [
      "===================================\n",
      "Peptide Index m/z: 1368\n",
      " - Peptide hit sequence: EYDQFINSIR\n",
      "Spectrum 1 of EYDQFINSIR has 34 peaks.\n",
      "y1++ is generated at m/z 88.06311469007102\n",
      "y2++ is generated at m/z 144.60514686552102\n",
      "b2++ is generated at m/z 147.06023822197102\n",
      "y1+ is generated at m/z 175.118952913371\n",
      "y3++ is generated at m/z 188.121161445271\n",
      "b3++ is generated at m/z 204.573710301721\n",
      "y4++ is generated at m/z 245.142625540971\n",
      "b4++ is generated at m/z 268.602999429321\n",
      "y2+ is generated at m/z 288.203017264271\n",
      "b2+ is generated at m/z 293.113199977171\n",
      "y5++ is generated at m/z 301.684657716421\n",
      "b5++ is generated at m/z 342.13720657287104\n",
      "y6++ is generated at m/z 375.218864859971\n",
      "y3+ is generated at m/z 375.235046423771\n",
      "b6++ is generated at m/z 398.67923874832104\n",
      "b3+ is generated at m/z 408.140144136671\n",
      "y7++ is generated at m/z 439.248153987571\n",
      "b7++ is generated at m/z 455.70070284402107\n",
      "y4+ is generated at m/z 489.277974615171\n",
      "y8++ is generated at m/z 496.761626067321\n",
      "b8++ is generated at m/z 499.21671742377106\n",
      "b4+ is generated at m/z 536.198722391871\n",
      "b9++ is generated at m/z 555.758749599221\n",
      "y9++ is generated at m/z 578.293290710871\n",
      "y5+ is generated at m/z 602.3620389660709\n",
      "b5+ is generated at m/z 683.267136678971\n",
      "y6+ is generated at m/z 749.430453253171\n",
      "b6+ is generated at m/z 796.351201029871\n",
      "y7+ is generated at m/z 877.489031508371\n",
      "b7+ is generated at m/z 910.3941292212711\n",
      "y8+ is generated at m/z 992.515975667871\n",
      "b8+ is generated at m/z 997.4261583807711\n",
      "b9+ is generated at m/z 1110.510222731671\n",
      "y9+ is generated at m/z 1155.579304954971\n",
      "===================================\n",
      "Peptide Index m/z: 8899\n",
      " - Peptide hit sequence: EEFLSLAQSSPAGSQLESR\n",
      "Spectrum 1 of EEFLSLAQSSPAGSQLESR has 70 peaks.\n",
      "y1++ is generated at m/z 88.06311469007102\n",
      "b2++ is generated at m/z 130.049870690071\n",
      "y2++ is generated at m/z 131.579129269821\n",
      "y1+ is generated at m/z 175.118952913371\n",
      "y3++ is generated at m/z 196.100426381471\n",
      "b3++ is generated at m/z 203.58407783362102\n",
      "y4++ is generated at m/z 252.642458556921\n",
      "b2+ is generated at m/z 259.09246491337103\n",
      "b4++ is generated at m/z 260.126110009071\n",
      "y2+ is generated at m/z 262.15098207287105\n",
      "b5++ is generated at m/z 303.642124588821\n",
      "y5++ is generated at m/z 316.671747684521\n",
      "b6++ is generated at m/z 360.184156764271\n",
      "y6++ is generated at m/z 360.187762264271\n",
      "y7++ is generated at m/z 388.698494312121\n",
      "y3+ is generated at m/z 391.19357629617105\n",
      "b7++ is generated at m/z 395.702713844021\n",
      "b3+ is generated at m/z 406.1608792004711\n",
      "y8++ is generated at m/z 424.217051391871\n",
      "b8++ is generated at m/z 459.732002971621\n",
      "y9++ is generated at m/z 472.743433503521\n",
      "b9++ is generated at m/z 503.248017551371\n",
      "y4+ is generated at m/z 504.27764064707105\n",
      "y10++ is generated at m/z 516.259448083271\n",
      "b4+ is generated at m/z 519.2449435513711\n",
      "b10++ is generated at m/z 546.764032131121\n",
      "y11++ is generated at m/z 559.775462663021\n",
      "b11++ is generated at m/z 595.290414242771\n",
      "b5+ is generated at m/z 606.2769727108711\n",
      "y12++ is generated at m/z 623.804751790621\n",
      "b12++ is generated at m/z 630.8089713225211\n",
      "y5+ is generated at m/z 632.336218902271\n",
      "b13++ is generated at m/z 659.319703370371\n",
      "y13++ is generated at m/z 659.3233088703711\n",
      "b14++ is generated at m/z 702.8357179501211\n",
      "y14++ is generated at m/z 715.8653410458211\n",
      "b6+ is generated at m/z 719.3610370617711\n",
      "y6+ is generated at m/z 719.3682480617709\n",
      "y15++ is generated at m/z 759.3813556255711\n",
      "b15++ is generated at m/z 766.8650070777211\n",
      "y7+ is generated at m/z 776.389712157471\n",
      "b7+ is generated at m/z 790.3981512212711\n",
      "y16++ is generated at m/z 815.9233878010211\n",
      "b16++ is generated at m/z 823.4070392531711\n",
      "y8+ is generated at m/z 847.426826316971\n",
      "b17++ is generated at m/z 887.9283363648211\n",
      "y17++ is generated at m/z 889.4575949445712\n",
      "b8+ is generated at m/z 918.4567294764711\n",
      "b18++ is generated at m/z 931.4443509445712\n",
      "y9+ is generated at m/z 944.4795905402709\n",
      "y18++ is generated at m/z 953.9788920562212\n",
      "b9+ is generated at m/z 1005.4887586359711\n",
      "y10+ is generated at m/z 1031.511619699771\n",
      "b10+ is generated at m/z 1092.520787795471\n",
      "y11+ is generated at m/z 1118.543648859271\n",
      "b11+ is generated at m/z 1189.5735520187711\n",
      "y12+ is generated at m/z 1246.602227114471\n",
      "b12+ is generated at m/z 1260.610666178271\n",
      "b13+ is generated at m/z 1317.632130273971\n",
      "y13+ is generated at m/z 1317.639341273971\n",
      "b14+ is generated at m/z 1404.664159433471\n",
      "y14+ is generated at m/z 1430.723405624871\n",
      "y15+ is generated at m/z 1517.7554347843711\n",
      "b15+ is generated at m/z 1532.722737688671\n",
      "y16+ is generated at m/z 1630.8394991352711\n",
      "b16+ is generated at m/z 1645.806802039571\n",
      "b17+ is generated at m/z 1774.849396262871\n",
      "y17+ is generated at m/z 1777.9079134223712\n",
      "b18+ is generated at m/z 1861.8814254223712\n",
      "y18+ is generated at m/z 1906.9505076456712\n",
      "Number of matched peaks: 20\n",
      "ion\ttheo. m/z\tobserved m/z\n",
      "y4++\t2\t252.642458556921\t252.47201538085938\n",
      "y5++\t2\t316.671747684521\t316.22601318359375\n",
      "y7++\t2\t388.698494312121\t388.3390197753906\n",
      "y3+\t1\t391.19357629617105\t391.154052734375\n",
      "b8++\t2\t459.732002971621\t460.0030212402344\n",
      "b10++\t2\t546.764032131121\t546.4410400390625\n",
      "y11++\t2\t559.775462663021\t559.89599609375\n",
      "y13++\t2\t659.3233088703711\t659.39599609375\n",
      "b6+\t1\t719.3610370617711\t719.3070678710938\n",
      "y7+\t1\t776.389712157471\t776.424072265625\n",
      "y16++\t2\t815.9233878010211\t816.260009765625\n",
      "b16++\t2\t823.4070392531711\t823.10302734375\n",
      "b17++\t2\t887.9283363648211\t888.0770263671875\n",
      "b8+\t1\t918.4567294764711\t918.4430541992188\n",
      "y18++\t2\t953.9788920562212\t953.551025390625\n",
      "b9+\t1\t1005.4887586359711\t1005.343017578125\n",
      "y10+\t1\t1031.511619699771\t1031.968994140625\n",
      "b10+\t1\t1092.520787795471\t1092.6220703125\n",
      "y11+\t1\t1118.543648859271\t1118.468994140625\n",
      "b12+\t1\t1260.610666178271\t1260.633056640625\n"
     ]
    },
    {
     "data": {
      "image/png": "[encoded data removed]",
      "text/plain": [
       "<Figure size 864x576 with 1 Axes>"
      ]
     },
     "metadata": {
      "needs_background": "light"
     },
     "output_type": "display_data"
    },
    {
     "name": "stdout",
     "output_type": "stream",
     "text": [
      "===================================\n",
      "Peptide Index m/z: 13160\n",
      " - Peptide hit sequence: FIIQFLQDFLHSK\n",
      "Spectrum 1 of FIIQFLQDFLHSK has 46 peaks.\n",
      "y1++ is generated at m/z 74.06004069007102\n",
      "y2++ is generated at m/z 117.57605526982101\n",
      "b2++ is generated at m/z 131.08351578577103\n",
      "y1+ is generated at m/z 147.112804913371\n",
      "y3++ is generated at m/z 186.10551138147102\n",
      "b3++ is generated at m/z 187.62554796122103\n",
      "y2+ is generated at m/z 234.14483407287105\n",
      "y4++ is generated at m/z 242.64754355692102\n",
      "b4++ is generated at m/z 251.65483708882104\n",
      "b2+ is generated at m/z 261.159755104771\n",
      "y5++ is generated at m/z 316.181750700471\n",
      "b5++ is generated at m/z 325.1890442323711\n",
      "y3+ is generated at m/z 371.20374629617106\n",
      "y6++ is generated at m/z 373.695222780221\n",
      "b3+ is generated at m/z 374.24381945567103\n",
      "b6++ is generated at m/z 381.7310764078211\n",
      "y7++ is generated at m/z 437.724511907821\n",
      "b7++ is generated at m/z 445.7603655354211\n",
      "y4+ is generated at m/z 484.28781064707107\n",
      "y8++ is generated at m/z 494.266544083271\n",
      "b4+ is generated at m/z 502.30239771087105\n",
      "b8++ is generated at m/z 503.2738376151711\n",
      "y9++ is generated at m/z 567.800751226821\n",
      "b9++ is generated at m/z 576.808044758721\n",
      "y5+ is generated at m/z 631.356224934171\n",
      "y10++ is generated at m/z 631.830040354421\n",
      "b10++ is generated at m/z 633.350076934171\n",
      "b5+ is generated at m/z 649.370811997971\n",
      "y11++ is generated at m/z 688.372072529871\n",
      "b11++ is generated at m/z 701.8795330458211\n",
      "y12++ is generated at m/z 744.914104705321\n",
      "b12++ is generated at m/z 745.3955476255711\n",
      "y6+ is generated at m/z 746.383169093671\n",
      "b6+ is generated at m/z 762.454876348871\n",
      "y7+ is generated at m/z 874.441747348871\n",
      "b7+ is generated at m/z 890.5134546040711\n",
      "y8+ is generated at m/z 987.525811699771\n",
      "b8+ is generated at m/z 1005.540398763571\n",
      "y9+ is generated at m/z 1134.594225986871\n",
      "b9+ is generated at m/z 1152.608813050671\n",
      "y10+ is generated at m/z 1262.652804242071\n",
      "b10+ is generated at m/z 1265.692877401571\n",
      "y11+ is generated at m/z 1375.736868592971\n",
      "b11+ is generated at m/z 1402.751789624871\n",
      "y12+ is generated at m/z 1488.820932943871\n",
      "b12+ is generated at m/z 1489.783818784371\n",
      "Number of matched peaks: 7\n",
      "ion\ttheo. m/z\tobserved m/z\n",
      "y2+\t1\t234.14483407287105\t233.9840087890625\n",
      "b6++\t2\t381.7310764078211\t382.15899658203125\n",
      "y8++\t2\t494.266544083271\t494.6390075683594\n",
      "b4+\t1\t502.30239771087105\t502.58001708984375\n",
      "b8++\t2\t503.2738376151711\t503.0\n",
      "b10++\t2\t633.350076934171\t633.6010131835938\n",
      "y8+\t1\t987.525811699771\t987.64501953125\n"
     ]
    },
    {
     "data": {
      "image/png": "[encoded data removed]",
      "text/plain": [
       "<Figure size 864x576 with 1 Axes>"
      ]
     },
     "metadata": {
      "needs_background": "light"
     },
     "output_type": "display_data"
    },
    {
     "name": "stdout",
     "output_type": "stream",
     "text": [
      "===================================\n",
      "Peptide Index m/z: 21676\n",
      " - Peptide hit sequence: DGNAPSLGNDTDFR\n",
      "Spectrum 1 of DGNAPSLGNDTDFR has 50 peaks.\n",
      "b2++ is generated at m/z 87.031480594371\n",
      "y1++ is generated at m/z 88.06311469007102\n",
      "b3++ is generated at m/z 144.052944690071\n",
      "y2++ is generated at m/z 161.59732183362104\n",
      "b2+ is generated at m/z 173.05568472197098\n",
      "y1+ is generated at m/z 175.118952913371\n",
      "b4++ is generated at m/z 179.571501769821\n",
      "y3++ is generated at m/z 219.11079391337103\n",
      "b5++ is generated at m/z 228.09788388147098\n",
      "y4++ is generated at m/z 269.634633525021\n",
      "b6++ is generated at m/z 271.61389846122097\n",
      "b3+ is generated at m/z 287.09861291337097\n",
      "y2+ is generated at m/z 322.1873672004711\n",
      "y5++ is generated at m/z 327.148105604771\n",
      "b7++ is generated at m/z 328.155930636671\n",
      "b8++ is generated at m/z 356.666662684521\n",
      "b4+ is generated at m/z 358.13572707287096\n",
      "y6++ is generated at m/z 384.169569700471\n",
      "y7++ is generated at m/z 412.680301748321\n",
      "b9++ is generated at m/z 413.688126780221\n",
      "y3+ is generated at m/z 437.2143113599711\n",
      "b5+ is generated at m/z 455.1884912961709\n",
      "y8++ is generated at m/z 469.22233392377103\n",
      "b10++ is generated at m/z 471.201598859971\n",
      "y9++ is generated at m/z 512.738348503521\n",
      "b11++ is generated at m/z 521.725438471621\n",
      "y4+ is generated at m/z 538.261990583271\n",
      "b6+ is generated at m/z 542.2205204556709\n",
      "y10++ is generated at m/z 561.2647306151711\n",
      "b12++ is generated at m/z 579.2389105513711\n",
      "y11++ is generated at m/z 596.7832876949211\n",
      "b13++ is generated at m/z 652.7731176949211\n",
      "y5+ is generated at m/z 653.288934742771\n",
      "y12++ is generated at m/z 653.8047517906211\n",
      "b7+ is generated at m/z 655.3045848065709\n",
      "y13++ is generated at m/z 682.3154838384711\n",
      "b8+ is generated at m/z 712.3260489022709\n",
      "y6+ is generated at m/z 767.331862934171\n",
      "y7+ is generated at m/z 824.353327029871\n",
      "b9+ is generated at m/z 826.368977093671\n",
      "y8+ is generated at m/z 937.437391380771\n",
      "b10+ is generated at m/z 941.395921253171\n",
      "y9+ is generated at m/z 1024.4694205402711\n",
      "b11+ is generated at m/z 1042.443600476471\n",
      "y10+ is generated at m/z 1121.522184763571\n",
      "b12+ is generated at m/z 1157.470544635971\n",
      "y11+ is generated at m/z 1192.559298923071\n",
      "b13+ is generated at m/z 1304.538958923071\n",
      "y12+ is generated at m/z 1306.6022271144711\n",
      "y13+ is generated at m/z 1363.623691210171\n",
      "Number of matched peaks: 6\n",
      "ion\ttheo. m/z\tobserved m/z\n",
      "b4+\t1\t358.13572707287096\t358.4640197753906\n",
      "y10++\t2\t561.2647306151711\t561.5260009765625\n",
      "b12++\t2\t579.2389105513711\t578.93603515625\n",
      "y8+\t1\t937.437391380771\t937.8690185546875\n",
      "b11+\t1\t1042.443600476471\t1042.511962890625\n",
      "b13+\t1\t1304.538958923071\t1304.4429931640625\n"
     ]
    },
    {
     "data": {
      "image/png": "[encoded data removed]",
      "text/plain": [
       "<Figure size 864x576 with 1 Axes>"
      ]
     },
     "metadata": {
      "needs_background": "light"
     },
     "output_type": "display_data"
    }
   ],
   "source": [
    "for peptide_id in peptide_ids:\n",
    "    print (35*\"=\")\n",
    "    print (\"Peptide Index m/z:\", peptide_id.getMetaValue(\"scan_index\"))\n",
    "    for hit in peptide_id.getHits():\n",
    "        index=str(peptide_id.getMetaValue(\"scan_index\"))\n",
    "        seq=str( hit.getSequence())\n",
    "        print(\" - Peptide hit sequence:\", hit.getSequence())\n",
    "        tsg = TheoreticalSpectrumGenerator()\n",
    "        theo_spec = MSSpectrum()\n",
    "        p = Param()\n",
    "        p.setValue(\"add_y_ions\", \"true\")\n",
    "        p.setValue(\"add_b_ions\", \"true\")\n",
    "        p.setValue(\"add_metainfo\", \"true\")\n",
    "        tsg.setParameters(p)\n",
    "        peptide = AASequence.fromString(hit.getSequence().toString())\n",
    "        tsg.getSpectrum(theo_spec, peptide, 1, 2)\n",
    "        # Iterate over annotated ions and their masses\n",
    "        print(\"Spectrum 1 of\", peptide, \"has\", theo_spec.size(), \"peaks.\")\n",
    "        for ion, peak in zip(theo_spec.getStringDataArrays()[0], theo_spec):\n",
    "            print(ion.decode(), \"is generated at m/z\", peak.getMZ())\n",
    "        exp = MSExperiment()\n",
    "        MzMLFile().load(\"ea07036.mzML\", exp)\n",
    "        spectra = exp.getSpectrum(peptide_id.getMetaValue(\"scan_index\"))\n",
    "        alignment = []\n",
    "        spa = SpectrumAlignment()\n",
    "        p = spa.getParameters()\n",
    "        # use 0.5 Da tolerance (Note: for high-resolution data we could also use ppm by setting the is_relative_tolerance value to true)\n",
    "        p.setValue(\"tolerance\", 0.5)\n",
    "        p.setValue(\"is_relative_tolerance\", \"false\")\n",
    "        spa.setParameters(p)\n",
    "        # align both spectra\n",
    "        spa.getSpectrumAlignment(alignment, theo_spec, spectra)\n",
    "\n",
    "        # Print matching ions and mz from theoretical spectrum\n",
    "        if(len(alignment)!=0):\n",
    "            print(\"Number of matched peaks: \" + str(len(alignment)))\n",
    "            print(\"ion\\ttheo. m/z\\tobserved m/z\")\n",
    "\n",
    "        \n",
    "            for theo_idx, obs_idx in alignment:\n",
    "                ion_name = theo_spec.getStringDataArrays()[0][theo_idx].decode()\n",
    "                ion_charge = theo_spec.getIntegerDataArrays()[0][theo_idx]\n",
    "                print(ion_name + \"\\t\" + str(ion_charge) + \"\\t\"\n",
    "                      + str(theo_spec[theo_idx].getMZ())\n",
    "                      + \"\\t\" + str(spectra[obs_idx].getMZ()))\n",
    "\n",
    "            theo_mz, theo_int, obs_mz, obs_int = [], [], [], []\n",
    "            for theo_idx, obs_idx in alignment:\n",
    "                theo_mz.append(theo_spec[theo_idx].getMZ())\n",
    "                theo_int.append(theo_spec[theo_idx].getIntensity())\n",
    "                obs_mz.append(spectra[obs_idx].getMZ())\n",
    "                obs_int.append(spectra[obs_idx].getIntensity())\n",
    "            if(max(obs_int)!=0):\n",
    "                title =\"The Seq :\"+ seq+\" & The index:\"+index\n",
    "                mirror_plot(obs_mz, obs_int, theo_mz, theo_int, title)\n",
    "        \n"
   ]
  },
  {
   "cell_type": "code",
   "execution_count": null,
   "id": "76a302cc",
   "metadata": {},
   "outputs": [],
   "source": []
  }
 ],
 "metadata": {
  "kernelspec": {
   "display_name": "Python 3",
   "language": "python",
   "name": "python3"
  },
  "language_info": {
   "codemirror_mode": {
    "name": "ipython",
    "version": 3
   },
   "file_extension": ".py",
   "mimetype": "text/x-python",
   "name": "python",
   "nbconvert_exporter": "python",
   "pygments_lexer": "ipython3",
   "version": "3.8.8"
  }
 },
 "nbformat": 4,
 "nbformat_minor": 5
}
