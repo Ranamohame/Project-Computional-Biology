{
 "cells": [
  {
   "cell_type": "code",
   "execution_count": 29,
   "metadata": {
    "ExecuteTime": {
     "end_time": "2022-01-07T01:24:02.048938Z",
     "start_time": "2022-01-07T01:24:01.507118Z"
    }
   },
   "outputs": [],
   "source": [
    "from pyopenms import *\n",
    "import matplotlib.pyplot as plt\n"
   ]
  },
  {
   "cell_type": "code",
   "execution_count": 30,
   "metadata": {
    "ExecuteTime": {
     "end_time": "2022-01-07T01:24:03.286704Z",
     "start_time": "2022-01-07T01:24:03.273701Z"
    }
   },
   "outputs": [],
   "source": [
    "def mirror_plot(obs_mz, obs_int, theo_mz, theo_int, title):\n",
    "    \n",
    "    obs_int = [element / max(obs_int) for element in obs_int]  # relative intenstiy\n",
    "    theo_int = [element * -1 for element in theo_int]  # invert the intensity for the mirror plot\n",
    "    plt.figure(figsize=(12, 8))\n",
    "    plt.bar(obs_mz, obs_int, width=3.0)\n",
    "    plt.bar(theo_mz, theo_int, width=3.0)\n",
    "    plt.title(title)\n",
    "    plt.ylabel('intensity')\n",
    "    plt.xlabel('m/z')\n",
    "    plt.show()"
   ]
  },
  {
   "cell_type": "code",
   "execution_count": 31,
   "metadata": {
    "ExecuteTime": {
     "end_time": "2022-01-07T01:26:17.235206Z",
     "start_time": "2022-01-07T01:25:59.965687Z"
    }
   },
   "outputs": [],
   "source": [
    "protein_ids = []\n",
    "peptide_ids = []\n",
    "SimpleSearchEngineAlgorithm().search(\"yeast9.mzML\", \"yeast9.fasta\", protein_ids, peptide_ids)"
   ]
  },
  {
   "cell_type": "code",
   "execution_count": null,
   "metadata": {
    "ExecuteTime": {
     "end_time": "2022-01-07T02:38:59.376981Z",
     "start_time": "2022-01-07T02:00:19.117736Z"
    }
   },
   "outputs": [
    {
     "name": "stdout",
     "output_type": "stream",
     "text": [
      "===================================\n",
      "Peptide Index m/z: 4882\n",
      " - Peptide hit sequence: ELETQTK\n",
      "Spectrum 1 of ELETQTK has 22 peaks.\n",
      "y1++ is generated at m/z 74.06004069007102\n",
      "b2++ is generated at m/z 122.070605753871\n",
      "y2++ is generated at m/z 124.58388030172102\n",
      "y1+ is generated at m/z 147.112804913371\n",
      "b3++ is generated at m/z 186.591902865521\n",
      "y3++ is generated at m/z 188.61316942932103\n",
      "b4++ is generated at m/z 237.115742477171\n",
      "y4++ is generated at m/z 239.13700904097104\n",
      "b2+ is generated at m/z 243.13393504097098\n",
      "y2+ is generated at m/z 248.16048413667102\n",
      "b5++ is generated at m/z 301.145031604771\n",
      "y5++ is generated at m/z 303.658306152621\n",
      "b6++ is generated at m/z 351.668871216421\n",
      "y6++ is generated at m/z 360.200338328071\n",
      "b3+ is generated at m/z 372.176529264271\n",
      "y3+ is generated at m/z 376.21906239187103\n",
      "b4+ is generated at m/z 473.224208487571\n",
      "y4+ is generated at m/z 477.26674161517104\n",
      "b5+ is generated at m/z 601.282786742771\n",
      "y5+ is generated at m/z 606.309335838471\n",
      "b6+ is generated at m/z 702.330465966071\n",
      "y6+ is generated at m/z 719.393400189371\n",
      "Number of matched peaks: 2\n",
      "ion\ttheo. m/z\tobserved m/z\n",
      "b3++\t2\t186.591902865521\t186.12271118164062\n",
      "y3+\t1\t376.21906239187103\t376.2506408691406\n"
     ]
    },
    {
     "data": {
      "image/png": "[encoded data removed]",
      "text/plain": [
       "<Figure size 864x576 with 1 Axes>"
      ]
     },
     "metadata": {
      "needs_background": "light"
     },
     "output_type": "display_data"
    },
    {
     "name": "stdout",
     "output_type": "stream",
     "text": [
      "===================================\n",
      "Peptide Index m/z: 8288\n",
      " - Peptide hit sequence: TLDTQLEIVIENLHK\n",
      "Spectrum 1 of TLDTQLEIVIENLHK has 54 peaks.\n",
      "y1++ is generated at m/z 74.06004069007102\n",
      "b2++ is generated at m/z 108.073148253871\n",
      "y2++ is generated at m/z 142.58949680172103\n",
      "y1+ is generated at m/z 147.112804913371\n",
      "b3++ is generated at m/z 165.586620333621\n",
      "y3++ is generated at m/z 199.13152897717103\n",
      "b2+ is generated at m/z 215.139020040971\n",
      "b4++ is generated at m/z 216.110459945271\n",
      "y4++ is generated at m/z 256.152993072871\n",
      "b5++ is generated at m/z 280.13974907287104\n",
      "y2+ is generated at m/z 284.171717136671\n",
      "y5++ is generated at m/z 320.674290184521\n",
      "b3+ is generated at m/z 330.165964200471\n",
      "b6++ is generated at m/z 336.68178124832104\n",
      "y6++ is generated at m/z 377.216322359971\n",
      "y3+ is generated at m/z 397.255781487571\n",
      "b7++ is generated at m/z 401.2030783599711\n",
      "y7++ is generated at m/z 426.750529503521\n",
      "b4+ is generated at m/z 431.21364342377103\n",
      "b8++ is generated at m/z 457.7451105354211\n",
      "y8++ is generated at m/z 483.292561678971\n",
      "b9++ is generated at m/z 507.2793176789711\n",
      "y4+ is generated at m/z 511.298709678971\n",
      "y9++ is generated at m/z 547.813858790621\n",
      "b5+ is generated at m/z 559.272221678971\n",
      "b10++ is generated at m/z 563.8213498544211\n",
      "y10++ is generated at m/z 604.355890966071\n",
      "b11++ is generated at m/z 628.3426469660711\n",
      "y5+ is generated at m/z 640.341303902271\n",
      "y11++ is generated at m/z 668.385180093671\n",
      "b6+ is generated at m/z 672.3562860298711\n",
      "b12++ is generated at m/z 685.3641110617712\n",
      "y12++ is generated at m/z 718.909019705321\n",
      "b13++ is generated at m/z 741.9061432372212\n",
      "y6+ is generated at m/z 753.425368253171\n",
      "y13++ is generated at m/z 776.4224917850711\n",
      "b7+ is generated at m/z 801.398880253171\n",
      "b14++ is generated at m/z 810.4355993488712\n",
      "y14++ is generated at m/z 832.9645239605211\n",
      "y7+ is generated at m/z 852.493782540271\n",
      "b8+ is generated at m/z 914.482944604071\n",
      "y8+ is generated at m/z 965.577846891171\n",
      "b9+ is generated at m/z 1013.551358891171\n",
      "y9+ is generated at m/z 1094.620441114471\n",
      "b10+ is generated at m/z 1126.635423242071\n",
      "y10+ is generated at m/z 1207.704505465371\n",
      "b11+ is generated at m/z 1255.678017465371\n",
      "y11+ is generated at m/z 1335.763083720571\n",
      "b12+ is generated at m/z 1369.7209456567712\n",
      "y12+ is generated at m/z 1436.8107629438712\n",
      "b13+ is generated at m/z 1482.8050100076712\n",
      "y13+ is generated at m/z 1551.8377071033713\n",
      "b14+ is generated at m/z 1619.8639222309712\n",
      "y14+ is generated at m/z 1664.9217714542713\n",
      "Number of matched peaks: 7\n",
      "ion\ttheo. m/z\tobserved m/z\n",
      "y1+\t1\t147.112804913371\t146.67405700683594\n",
      "y3++\t2\t199.13152897717103\t199.1073455810547\n",
      "y4++\t2\t256.152993072871\t256.0921936035156\n",
      "b5++\t2\t280.13974907287104\t280.1285095214844\n",
      "y6++\t2\t377.216322359971\t377.1448669433594\n",
      "b7++\t2\t401.2030783599711\t401.16546630859375\n",
      "y4+\t1\t511.298709678971\t511.2511291503906\n"
     ]
    },
    {
     "data": {
      "image/png": "[encoded data removed]",
      "text/plain": [
       "<Figure size 864x576 with 1 Axes>"
      ]
     },
     "metadata": {
      "needs_background": "light"
     },
     "output_type": "display_data"
    }
   ],
   "source": [
    "for peptide_id in peptide_ids:\n",
    "    print (35*\"=\")\n",
    "    print (\"Peptide Index m/z:\", peptide_id.getMetaValue(\"scan_index\"))\n",
    "    for hit in peptide_id.getHits():\n",
    "        index=str(peptide_id.getMetaValue(\"scan_index\"))\n",
    "        seq=str( hit.getSequence())\n",
    "        print(\" - Peptide hit sequence:\", hit.getSequence())\n",
    "        tsg = TheoreticalSpectrumGenerator()\n",
    "        theo_spec = MSSpectrum()\n",
    "        p = Param()\n",
    "        p.setValue(\"add_y_ions\", \"true\")\n",
    "        p.setValue(\"add_b_ions\", \"true\")\n",
    "        p.setValue(\"add_metainfo\", \"true\")\n",
    "        tsg.setParameters(p)\n",
    "        peptide = AASequence.fromString(hit.getSequence().toString())\n",
    "        tsg.getSpectrum(theo_spec, peptide, 1, 2)\n",
    "        # Iterate over annotated ions and their masses\n",
    "        print(\"Spectrum 1 of\", peptide, \"has\", theo_spec.size(), \"peaks.\")\n",
    "        for ion, peak in zip(theo_spec.getStringDataArrays()[0], theo_spec):\n",
    "            print(ion.decode(), \"is generated at m/z\", peak.getMZ())\n",
    "        exp = MSExperiment()\n",
    "        MzMLFile().load(\"yeast9.mzML\", exp)\n",
    "        spectra = exp.getSpectrum(peptide_id.getMetaValue(\"scan_index\"))\n",
    "        alignment = []\n",
    "        spa = SpectrumAlignment()\n",
    "        p = spa.getParameters()\n",
    "        # use 0.5 Da tolerance (Note: for high-resolution data we could also use ppm by setting the is_relative_tolerance value to true)\n",
    "        p.setValue(\"tolerance\", 0.5)\n",
    "        p.setValue(\"is_relative_tolerance\", \"false\")\n",
    "        spa.setParameters(p)\n",
    "        # align both spectra\n",
    "        spa.getSpectrumAlignment(alignment, theo_spec, spectra)\n",
    "\n",
    "        # Print matching ions and mz from theoretical spectrum\n",
    "        if(len(alignment)!=0):\n",
    "            print(\"Number of matched peaks: \" + str(len(alignment)))\n",
    "            print(\"ion\\ttheo. m/z\\tobserved m/z\")\n",
    "\n",
    "        \n",
    "            for theo_idx, obs_idx in alignment:\n",
    "                ion_name = theo_spec.getStringDataArrays()[0][theo_idx].decode()\n",
    "                ion_charge = theo_spec.getIntegerDataArrays()[0][theo_idx]\n",
    "                print(ion_name + \"\\t\" + str(ion_charge) + \"\\t\"\n",
    "                      + str(theo_spec[theo_idx].getMZ())\n",
    "                      + \"\\t\" + str(spectra[obs_idx].getMZ()))\n",
    "\n",
    "            theo_mz, theo_int, obs_mz, obs_int = [], [], [], []\n",
    "            for theo_idx, obs_idx in alignment:\n",
    "                theo_mz.append(theo_spec[theo_idx].getMZ())\n",
    "                theo_int.append(theo_spec[theo_idx].getIntensity())\n",
    "                obs_mz.append(spectra[obs_idx].getMZ())\n",
    "                obs_int.append(spectra[obs_idx].getIntensity())\n",
    "            if(max(obs_int)!=0):\n",
    "                title =\"The Seq :\"+ seq+\" & The index:\"+index\n",
    "                mirror_plot(obs_mz, obs_int, theo_mz, theo_int, title)\n",
    "        \n"
   ]
  },
  {
   "cell_type": "code",
   "execution_count": null,
   "metadata": {},
   "outputs": [],
   "source": []
  }
 ],
 "metadata": {
  "kernelspec": {
   "display_name": "Python 3",
   "language": "python",
   "name": "python3"
  },
  "language_info": {
   "codemirror_mode": {
    "name": "ipython",
    "version": 3
   },
   "file_extension": ".py",
   "mimetype": "text/x-python",
   "name": "python",
   "nbconvert_exporter": "python",
   "pygments_lexer": "ipython3",
   "version": "3.7.4"
  }
 },
 "nbformat": 4,
 "nbformat_minor": 5
}
