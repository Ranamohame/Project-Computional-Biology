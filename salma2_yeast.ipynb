{
 "cells": [
  {
   "cell_type": "code",
   "execution_count": 1,
   "id": "284719e4",
   "metadata": {
    "ExecuteTime": {
     "end_time": "2022-01-07T20:03:11.380318Z",
     "start_time": "2022-01-07T20:03:11.012801Z"
    }
   },
   "outputs": [],
   "source": [
    "from pyopenms import *\n",
    "import matplotlib.pyplot as plt"
   ]
  },
  {
   "cell_type": "code",
   "execution_count": 2,
   "id": "d8ff7790",
   "metadata": {
    "ExecuteTime": {
     "end_time": "2022-01-07T20:03:21.382085Z",
     "start_time": "2022-01-07T20:03:21.367157Z"
    }
   },
   "outputs": [],
   "source": [
    "def mirror_plot(obs_mz, obs_int, theo_mz, theo_int, title):\n",
    "    \n",
    "    obs_int = [element / max(obs_int) for element in obs_int]  # relative intenstiy\n",
    "    theo_int = [element * -1 for element in theo_int]  # invert the intensity for the mirror plot\n",
    "    plt.figure(figsize=(12, 8))\n",
    "    plt.bar(obs_mz, obs_int, width=3.0)\n",
    "    plt.bar(theo_mz, theo_int, width=3.0)\n",
    "    plt.title(title)\n",
    "    plt.ylabel('intensity')\n",
    "    plt.xlabel('m/z')\n",
    "    plt.show()"
   ]
  },
  {
   "cell_type": "code",
   "execution_count": 3,
   "id": "3e1593e9",
   "metadata": {
    "ExecuteTime": {
     "end_time": "2022-01-07T20:04:24.630906Z",
     "start_time": "2022-01-07T20:04:05.669633Z"
    }
   },
   "outputs": [],
   "source": [
    "protein_ids = []\n",
    "peptide_ids = []\n",
    "SimpleSearchEngineAlgorithm().search(\"ea07029.mzML\",\"yeast.fasta\", protein_ids, peptide_ids)"
   ]
  },
  {
   "cell_type": "code",
   "execution_count": 4,
   "id": "040b955a",
   "metadata": {
    "ExecuteTime": {
     "end_time": "2022-01-07T20:04:27.754411Z",
     "start_time": "2022-01-07T20:04:27.745393Z"
    }
   },
   "outputs": [
    {
     "name": "stdout",
     "output_type": "stream",
     "text": [
      "2 1\n"
     ]
    }
   ],
   "source": [
    "print(len(peptide_ids),len(protein_ids))"
   ]
  },
  {
   "cell_type": "code",
   "execution_count": 5,
   "id": "df87e40d",
   "metadata": {
    "ExecuteTime": {
     "end_time": "2022-01-07T20:06:03.864982Z",
     "start_time": "2022-01-07T20:05:17.840734Z"
    }
   },
   "outputs": [
    {
     "name": "stdout",
     "output_type": "stream",
     "text": [
      "===================================\n",
      "Peptide Index m/z: 19319\n",
      " - Peptide hit sequence: IESQSVLINNLEK\n",
      "Spectrum 1 of IESQSVLINNLEK has 46 peaks.\n",
      "y1++ is generated at m/z 74.06004069007102\n",
      "b2++ is generated at m/z 122.070605753871\n",
      "y2++ is generated at m/z 138.58133780172102\n",
      "y1+ is generated at m/z 147.112804913371\n",
      "b3++ is generated at m/z 165.586620333621\n",
      "y3++ is generated at m/z 195.12336997717102\n",
      "b4++ is generated at m/z 229.615909461221\n",
      "b2+ is generated at m/z 243.13393504097098\n",
      "y4++ is generated at m/z 252.14483407287102\n",
      "b5++ is generated at m/z 273.131924040971\n",
      "y2+ is generated at m/z 276.15539913667106\n",
      "y5++ is generated at m/z 309.166298168571\n",
      "b6++ is generated at m/z 322.666131184521\n",
      "b3+ is generated at m/z 330.16596420047097\n",
      "y6++ is generated at m/z 365.708330344021\n",
      "b7++ is generated at m/z 379.208163359971\n",
      "y3+ is generated at m/z 389.2394634875711\n",
      "y7++ is generated at m/z 422.250362519471\n",
      "b8++ is generated at m/z 435.750195535421\n",
      "b4+ is generated at m/z 458.224542455671\n",
      "y8++ is generated at m/z 471.78456966302105\n",
      "b9++ is generated at m/z 492.77165963112105\n",
      "y4+ is generated at m/z 503.28239167897107\n",
      "y9++ is generated at m/z 515.300584242771\n",
      "b5+ is generated at m/z 545.256571615171\n",
      "b10++ is generated at m/z 549.793123726821\n",
      "y10++ is generated at m/z 579.329873370371\n",
      "b11++ is generated at m/z 606.335155902271\n",
      "y5+ is generated at m/z 617.325319870371\n",
      "y11++ is generated at m/z 622.8458879501211\n",
      "b6+ is generated at m/z 644.324985902271\n",
      "b12++ is generated at m/z 670.856453013921\n",
      "y12++ is generated at m/z 687.3671850617711\n",
      "y6+ is generated at m/z 730.409384221271\n",
      "b7+ is generated at m/z 757.409050253171\n",
      "y7+ is generated at m/z 843.493448572171\n",
      "b8+ is generated at m/z 870.493114604071\n",
      "y8+ is generated at m/z 942.5618628592711\n",
      "b9+ is generated at m/z 984.5360427954711\n",
      "y9+ is generated at m/z 1029.5938920187712\n",
      "b10+ is generated at m/z 1098.5789709868711\n",
      "y10+ is generated at m/z 1157.652470273971\n",
      "b11+ is generated at m/z 1211.6630353377711\n",
      "y11+ is generated at m/z 1244.684499433471\n",
      "b12+ is generated at m/z 1340.7056295610712\n",
      "y12+ is generated at m/z 1373.727093656771\n",
      "===================================\n",
      "Peptide Index m/z: 22543\n",
      " - Peptide hit sequence: FNQNLLLHLDSIFNILQK\n",
      "Spectrum 1 of FNQNLLLHLDSIFNILQK has 66 peaks.\n",
      "y1++ is generated at m/z 74.06004069007102\n",
      "b2++ is generated at m/z 131.56294770602102\n",
      "y2++ is generated at m/z 138.08932981767103\n",
      "y1+ is generated at m/z 147.112804913371\n",
      "y3++ is generated at m/z 194.63136199312103\n",
      "b3++ is generated at m/z 195.59223683362103\n",
      "y4++ is generated at m/z 251.17339416857104\n",
      "b4++ is generated at m/z 252.61370092932103\n",
      "b2+ is generated at m/z 262.11861894527107\n",
      "y2+ is generated at m/z 275.171383168571\n",
      "y5++ is generated at m/z 308.19485826427103\n",
      "b5++ is generated at m/z 309.155733104771\n",
      "b6++ is generated at m/z 365.697765280221\n",
      "y6++ is generated at m/z 381.72906540782105\n",
      "y3+ is generated at m/z 388.25544751947103\n",
      "b3+ is generated at m/z 390.1771972004711\n",
      "b7++ is generated at m/z 422.239797455671\n",
      "y7++ is generated at m/z 438.27109758327106\n",
      "y8++ is generated at m/z 481.78711216302105\n",
      "b8++ is generated at m/z 490.769253567321\n",
      "y4+ is generated at m/z 501.33951187037104\n",
      "b4+ is generated at m/z 504.2201253918711\n",
      "y9++ is generated at m/z 539.300584242771\n",
      "b9++ is generated at m/z 547.311285742771\n",
      "y10++ is generated at m/z 595.842616418221\n",
      "b10++ is generated at m/z 604.8247578225211\n",
      "y5+ is generated at m/z 615.382440061771\n",
      "b5+ is generated at m/z 617.3041897427711\n",
      "b11++ is generated at m/z 648.3407724022711\n",
      "y11++ is generated at m/z 664.372072529871\n",
      "b12++ is generated at m/z 704.8828045777211\n",
      "y12++ is generated at m/z 720.914104705321\n",
      "b6+ is generated at m/z 730.3882540936711\n",
      "y6+ is generated at m/z 762.4508543488711\n",
      "y13++ is generated at m/z 777.456136880771\n",
      "b13++ is generated at m/z 778.4170117212711\n",
      "y14++ is generated at m/z 833.9981690562211\n",
      "b14++ is generated at m/z 835.4384758169712\n",
      "b7+ is generated at m/z 843.4723184445711\n",
      "y7+ is generated at m/z 875.5349186997711\n",
      "y15++ is generated at m/z 891.0196331519211\n",
      "b15++ is generated at m/z 891.9805079924212\n",
      "b16++ is generated at m/z 948.5225401678712\n",
      "y16++ is generated at m/z 955.0489222795211\n",
      "y8+ is generated at m/z 962.5669478592711\n",
      "b8+ is generated at m/z 980.5312306678711\n",
      "y17++ is generated at m/z 1012.0703863752211\n",
      "b17++ is generated at m/z 1012.5518292954712\n",
      "y9+ is generated at m/z 1077.5938920187712\n",
      "b9+ is generated at m/z 1093.6152950187711\n",
      "y10+ is generated at m/z 1190.6779563696712\n",
      "b10+ is generated at m/z 1208.6422391782712\n",
      "b11+ is generated at m/z 1295.6742683377713\n",
      "y11+ is generated at m/z 1327.7368685929712\n",
      "b12+ is generated at m/z 1408.7583326886713\n",
      "y12+ is generated at m/z 1440.8209329438712\n",
      "y13+ is generated at m/z 1553.9049972947712\n",
      "b13+ is generated at m/z 1555.8267469757714\n",
      "y14+ is generated at m/z 1666.9890616456712\n",
      "b14+ is generated at m/z 1669.8696751671714\n",
      "y15+ is generated at m/z 1781.0319898370713\n",
      "b15+ is generated at m/z 1782.9537395180714\n",
      "b16+ is generated at m/z 1896.0378038689714\n",
      "y16+ is generated at m/z 1909.0905680922713\n",
      "y17+ is generated at m/z 2023.1334962836713\n",
      "b17+ is generated at m/z 2024.0963821241714\n",
      "Number of matched peaks: 13\n",
      "ion\ttheo. m/z\tobserved m/z\n",
      "y2+\t1\t275.171383168571\t275.63702392578125\n",
      "b9++\t2\t547.311285742771\t547.592041015625\n",
      "b10++\t2\t604.8247578225211\t604.759033203125\n",
      "y11++\t2\t664.372072529871\t664.2420043945312\n",
      "b12++\t2\t704.8828045777211\t705.2449951171875\n",
      "b6+\t1\t730.3882540936711\t730.6329956054688\n",
      "y13++\t2\t777.456136880771\t777.0980224609375\n",
      "b14++\t2\t835.4384758169712\t834.9609985351562\n",
      "y7+\t1\t875.5349186997711\t875.4920043945312\n",
      "b16++\t2\t948.5225401678712\t948.8590087890625\n",
      "y17++\t2\t1012.0703863752211\t1011.6589965820312\n",
      "y10+\t1\t1190.6779563696712\t1190.5360107421875\n",
      "b12+\t1\t1408.7583326886713\t1408.7099609375\n"
     ]
    },
    {
     "data": {
      "image/png": "[encoded data removed]",
      "text/plain": [
       "<Figure size 864x576 with 1 Axes>"
      ]
     },
     "metadata": {
      "needs_background": "light"
     },
     "output_type": "display_data"
    }
   ],
   "source": [
    "for peptide_id in peptide_ids:\n",
    "    print (35*\"=\")\n",
    "    print (\"Peptide Index m/z:\", peptide_id.getMetaValue(\"scan_index\"))\n",
    "    for hit in peptide_id.getHits():\n",
    "        index=str(peptide_id.getMetaValue(\"scan_index\"))\n",
    "        seq=str( hit.getSequence())\n",
    "        print(\" - Peptide hit sequence:\", hit.getSequence())\n",
    "        tsg = TheoreticalSpectrumGenerator()\n",
    "        theo_spec = MSSpectrum()\n",
    "        p = Param()\n",
    "        p.setValue(\"add_y_ions\", \"true\")\n",
    "        p.setValue(\"add_b_ions\", \"true\")\n",
    "        p.setValue(\"add_metainfo\", \"true\")\n",
    "        tsg.setParameters(p)\n",
    "        peptide = AASequence.fromString(hit.getSequence().toString())\n",
    "        tsg.getSpectrum(theo_spec, peptide, 1, 2)\n",
    "        # Iterate over annotated ions and their masses\n",
    "        print(\"Spectrum 1 of\", peptide, \"has\", theo_spec.size(), \"peaks.\")\n",
    "        for ion, peak in zip(theo_spec.getStringDataArrays()[0], theo_spec):\n",
    "            print(ion.decode(), \"is generated at m/z\", peak.getMZ())\n",
    "        exp = MSExperiment()\n",
    "        MzMLFile().load(\"ea07029.mzML\", exp)\n",
    "        spectra = exp.getSpectrum(peptide_id.getMetaValue(\"scan_index\"))\n",
    "        alignment = []\n",
    "        spa = SpectrumAlignment()\n",
    "        p = spa.getParameters()\n",
    "        # use 0.5 Da tolerance (Note: for high-resolution data we could also use ppm by setting the is_relative_tolerance value to true)\n",
    "        p.setValue(\"tolerance\", 0.5)\n",
    "        p.setValue(\"is_relative_tolerance\", \"false\")\n",
    "        spa.setParameters(p)\n",
    "        # align both spectra\n",
    "        spa.getSpectrumAlignment(alignment, theo_spec, spectra)\n",
    "\n",
    "        # Print matching ions and mz from theoretical spectrum\n",
    "        if(len(alignment)!=0):\n",
    "            print(\"Number of matched peaks: \" + str(len(alignment)))\n",
    "            print(\"ion\\ttheo. m/z\\tobserved m/z\")\n",
    "\n",
    "        \n",
    "            for theo_idx, obs_idx in alignment:\n",
    "                ion_name = theo_spec.getStringDataArrays()[0][theo_idx].decode()\n",
    "                ion_charge = theo_spec.getIntegerDataArrays()[0][theo_idx]\n",
    "                print(ion_name + \"\\t\" + str(ion_charge) + \"\\t\"\n",
    "                      + str(theo_spec[theo_idx].getMZ())\n",
    "                      + \"\\t\" + str(spectra[obs_idx].getMZ()))\n",
    "\n",
    "            theo_mz, theo_int, obs_mz, obs_int = [], [], [], []\n",
    "            for theo_idx, obs_idx in alignment:\n",
    "                theo_mz.append(theo_spec[theo_idx].getMZ())\n",
    "                theo_int.append(theo_spec[theo_idx].getIntensity())\n",
    "                obs_mz.append(spectra[obs_idx].getMZ())\n",
    "                obs_int.append(spectra[obs_idx].getIntensity())\n",
    "            if(max(obs_int)!=0):\n",
    "                title =\"The Seq :\"+ seq+\" & The index:\"+index\n",
    "                mirror_plot(obs_mz, obs_int, theo_mz, theo_int, title)\n",
    "        \n"
   ]
  },
  {
   "cell_type": "code",
   "execution_count": null,
   "id": "64cb4223",
   "metadata": {},
   "outputs": [],
   "source": []
  }
 ],
 "metadata": {
  "kernelspec": {
   "display_name": "Python 3",
   "language": "python",
   "name": "python3"
  },
  "language_info": {
   "codemirror_mode": {
    "name": "ipython",
    "version": 3
   },
   "file_extension": ".py",
   "mimetype": "text/x-python",
   "name": "python",
   "nbconvert_exporter": "python",
   "pygments_lexer": "ipython3",
   "version": "3.8.8"
  }
 },
 "nbformat": 4,
 "nbformat_minor": 5
}
