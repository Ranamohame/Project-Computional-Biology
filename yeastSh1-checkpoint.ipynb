{
 "cells": [
  {
   "cell_type": "code",
   "execution_count": 9,
   "metadata": {
    "ExecuteTime": {
     "end_time": "2022-01-07T02:03:31.509277Z",
     "start_time": "2022-01-07T02:03:28.740678Z"
    }
   },
   "outputs": [],
   "source": [
    "from pyopenms import *\n",
    "import matplotlib.pyplot as plt"
   ]
  },
  {
   "cell_type": "code",
   "execution_count": 10,
   "metadata": {
    "ExecuteTime": {
     "end_time": "2022-01-07T02:03:38.572395Z",
     "start_time": "2022-01-07T02:03:38.549455Z"
    }
   },
   "outputs": [],
   "source": [
    "def mirror_plot(obs_mz, obs_int, theo_mz, theo_int, title):\n",
    "    \n",
    "    obs_int = [element / max(obs_int) for element in obs_int]  # relative intenstiy\n",
    "    theo_int = [element * -1 for element in theo_int]  # invert the intensity for the mirror plot\n",
    "    plt.figure(figsize=(12, 8))\n",
    "    plt.bar(obs_mz, obs_int, width=3.0)\n",
    "    plt.bar(theo_mz, theo_int, width=3.0)\n",
    "    plt.title(title)\n",
    "    plt.ylabel('intensity')\n",
    "    plt.xlabel('m/z')\n",
    "    plt.show()"
   ]
  },
  {
   "cell_type": "code",
   "execution_count": 11,
   "metadata": {
    "ExecuteTime": {
     "end_time": "2022-01-07T02:05:00.269756Z",
     "start_time": "2022-01-07T02:04:47.322014Z"
    }
   },
   "outputs": [],
   "source": [
    "protein_ids = []\n",
    "peptide_ids = []\n",
    "SimpleSearchEngineAlgorithm().search(\"ea.mzML\", \"yeast.fasta\", protein_ids, peptide_ids)"
   ]
  },
  {
   "cell_type": "code",
   "execution_count": 12,
   "metadata": {
    "ExecuteTime": {
     "end_time": "2022-01-07T02:44:39.669250Z",
     "start_time": "2022-01-07T02:06:12.545578Z"
    }
   },
   "outputs": [
    {
     "name": "stdout",
     "output_type": "stream",
     "text": [
      "===================================\n",
      "Peptide Index m/z: 3110\n",
      " - Peptide hit sequence: NLNLIQPK\n",
      "Spectrum 1 of NLNLIQPK has 26 peaks.\n",
      "y1++ is generated at m/z 74.06004069007102\n",
      "b2++ is generated at m/z 114.570772737921\n",
      "y2++ is generated at m/z 122.586422801721\n",
      "y1+ is generated at m/z 147.112804913371\n",
      "b3++ is generated at m/z 171.592236833621\n",
      "y3++ is generated at m/z 186.615711929321\n",
      "b2+ is generated at m/z 228.134269009071\n",
      "b4++ is generated at m/z 228.134269009071\n",
      "y4++ is generated at m/z 243.157744104771\n",
      "y2+ is generated at m/z 244.16556913667102\n",
      "b5++ is generated at m/z 284.676301184521\n",
      "y5++ is generated at m/z 299.699776280221\n",
      "b3+ is generated at m/z 342.177197200471\n",
      "b6++ is generated at m/z 348.705590312121\n",
      "y6++ is generated at m/z 356.721240375921\n",
      "y3+ is generated at m/z 372.22414739187104\n",
      "b7++ is generated at m/z 397.23197242377097\n",
      "y7++ is generated at m/z 413.263272551371\n",
      "b4+ is generated at m/z 455.26126155137104\n",
      "y4+ is generated at m/z 485.30821174277105\n",
      "b5+ is generated at m/z 568.345325902271\n",
      "y5+ is generated at m/z 598.392276093671\n",
      "b6+ is generated at m/z 696.4039041574711\n",
      "y6+ is generated at m/z 712.435204285071\n",
      "b7+ is generated at m/z 793.456668380771\n",
      "y7+ is generated at m/z 825.519268635971\n",
      "Number of matched peaks: 4\n",
      "ion\ttheo. m/z\tobserved m/z\n",
      "b6++\t2\t348.705590312121\t349.1870422363281\n",
      "b6+\t1\t696.4039041574711\t696.0419921875\n",
      "b7+\t1\t793.456668380771\t793.509033203125\n",
      "y7+\t1\t825.519268635971\t825.5060424804688\n"
     ]
    },
    {
     "data": {
      "image/png": "[encoded data removed]",
      "text/plain": [
       "<Figure size 864x576 with 1 Axes>"
      ]
     },
     "metadata": {
      "needs_background": "light"
     },
     "output_type": "display_data"
    },
    {
     "name": "stdout",
     "output_type": "stream",
     "text": [
      "===================================\n",
      "Peptide Index m/z: 4963\n",
      " - Peptide hit sequence: IESQSVLINNLEK\n",
      "Spectrum 1 of IESQSVLINNLEK has 46 peaks.\n",
      "y1++ is generated at m/z 74.06004069007102\n",
      "b2++ is generated at m/z 122.070605753871\n",
      "y2++ is generated at m/z 138.58133780172102\n",
      "y1+ is generated at m/z 147.112804913371\n",
      "b3++ is generated at m/z 165.586620333621\n",
      "y3++ is generated at m/z 195.12336997717102\n",
      "b4++ is generated at m/z 229.615909461221\n",
      "b2+ is generated at m/z 243.13393504097098\n",
      "y4++ is generated at m/z 252.14483407287102\n",
      "b5++ is generated at m/z 273.131924040971\n",
      "y2+ is generated at m/z 276.15539913667106\n",
      "y5++ is generated at m/z 309.166298168571\n",
      "b6++ is generated at m/z 322.666131184521\n",
      "b3+ is generated at m/z 330.16596420047097\n",
      "y6++ is generated at m/z 365.708330344021\n",
      "b7++ is generated at m/z 379.208163359971\n",
      "y3+ is generated at m/z 389.2394634875711\n",
      "y7++ is generated at m/z 422.250362519471\n",
      "b8++ is generated at m/z 435.750195535421\n",
      "b4+ is generated at m/z 458.224542455671\n",
      "y8++ is generated at m/z 471.78456966302105\n",
      "b9++ is generated at m/z 492.77165963112105\n",
      "y4+ is generated at m/z 503.28239167897107\n",
      "y9++ is generated at m/z 515.300584242771\n",
      "b5+ is generated at m/z 545.256571615171\n",
      "b10++ is generated at m/z 549.793123726821\n",
      "y10++ is generated at m/z 579.329873370371\n",
      "b11++ is generated at m/z 606.335155902271\n",
      "y5+ is generated at m/z 617.325319870371\n",
      "y11++ is generated at m/z 622.8458879501211\n",
      "b6+ is generated at m/z 644.324985902271\n",
      "b12++ is generated at m/z 670.856453013921\n",
      "y12++ is generated at m/z 687.3671850617711\n",
      "y6+ is generated at m/z 730.409384221271\n",
      "b7+ is generated at m/z 757.409050253171\n",
      "y7+ is generated at m/z 843.493448572171\n",
      "b8+ is generated at m/z 870.493114604071\n",
      "y8+ is generated at m/z 942.5618628592711\n",
      "b9+ is generated at m/z 984.5360427954711\n",
      "y9+ is generated at m/z 1029.5938920187712\n",
      "b10+ is generated at m/z 1098.5789709868711\n",
      "y10+ is generated at m/z 1157.652470273971\n",
      "b11+ is generated at m/z 1211.6630353377711\n",
      "y11+ is generated at m/z 1244.684499433471\n",
      "b12+ is generated at m/z 1340.7056295610712\n",
      "y12+ is generated at m/z 1373.727093656771\n",
      "Number of matched peaks: 11\n",
      "ion\ttheo. m/z\tobserved m/z\n",
      "b4++\t2\t229.615909461221\t229.15301513671875\n",
      "y4++\t2\t252.14483407287102\t251.93101501464844\n",
      "y2+\t1\t276.15539913667106\t276.4739990234375\n",
      "y3+\t1\t389.2394634875711\t389.2860107421875\n",
      "y7++\t2\t422.250362519471\t422.1050109863281\n",
      "b4+\t1\t458.224542455671\t458.1340026855469\n",
      "b10++\t2\t549.793123726821\t549.4810180664062\n",
      "y5+\t1\t617.325319870371\t617.1070556640625\n",
      "y11++\t2\t622.8458879501211\t622.7150268554688\n",
      "b6+\t1\t644.324985902271\t643.8350219726562\n",
      "b8+\t1\t870.493114604071\t870.531982421875\n"
     ]
    },
    {
     "data": {
      "image/png": "[encoded data removed]",
      "text/plain": [
       "<Figure size 864x576 with 1 Axes>"
      ]
     },
     "metadata": {
      "needs_background": "light"
     },
     "output_type": "display_data"
    },
    {
     "name": "stdout",
     "output_type": "stream",
     "text": [
      "===================================\n",
      "Peptide Index m/z: 9567\n",
      " - Peptide hit sequence: IQVLYEYIR\n",
      "Spectrum 1 of IQVLYEYIR has 30 peaks.\n",
      "y1++ is generated at m/z 88.06311469007102\n",
      "b2++ is generated at m/z 121.57859776982102\n",
      "y2++ is generated at m/z 144.60514686552102\n",
      "b3++ is generated at m/z 171.112804913371\n",
      "y1+ is generated at m/z 175.118952913371\n",
      "y3++ is generated at m/z 226.13681150907104\n",
      "b4++ is generated at m/z 227.654837088821\n",
      "b2+ is generated at m/z 242.149919072871\n",
      "y2+ is generated at m/z 288.203017264271\n",
      "y4++ is generated at m/z 290.658108620721\n",
      "b5++ is generated at m/z 309.186501732371\n",
      "b3+ is generated at m/z 341.218333359971\n",
      "y5++ is generated at m/z 372.189773264271\n",
      "b6++ is generated at m/z 373.707798844021\n",
      "y6++ is generated at m/z 428.73180543972103\n",
      "y3+ is generated at m/z 451.26634655137104\n",
      "b4+ is generated at m/z 454.302397710871\n",
      "b7++ is generated at m/z 455.239463487571\n",
      "y7++ is generated at m/z 478.26601258327105\n",
      "b8++ is generated at m/z 511.781495663021\n",
      "y8++ is generated at m/z 542.2953017108711\n",
      "y4+ is generated at m/z 580.308940774671\n",
      "b5+ is generated at m/z 617.365726997971\n",
      "y5+ is generated at m/z 743.372270061771\n",
      "b6+ is generated at m/z 746.4083212212711\n",
      "y6+ is generated at m/z 856.456334412671\n",
      "b7+ is generated at m/z 909.4716505083711\n",
      "y7+ is generated at m/z 955.5247486997711\n",
      "b8+ is generated at m/z 1022.5557148592711\n",
      "y8+ is generated at m/z 1083.583326954971\n",
      "Number of matched peaks: 2\n",
      "ion\ttheo. m/z\tobserved m/z\n",
      "y3+\t1\t451.26634655137104\t451.416015625\n",
      "y5+\t1\t743.372270061771\t743.43505859375\n"
     ]
    },
    {
     "data": {
      "image/png": "[encoded data removed]",
      "text/plain": [
       "<Figure size 864x576 with 1 Axes>"
      ]
     },
     "metadata": {
      "needs_background": "light"
     },
     "output_type": "display_data"
    }
   ],
   "source": [
    "for peptide_id in peptide_ids:\n",
    "    print (35*\"=\")\n",
    "    print (\"Peptide Index m/z:\", peptide_id.getMetaValue(\"scan_index\"))\n",
    "    for hit in peptide_id.getHits():\n",
    "        index=str(peptide_id.getMetaValue(\"scan_index\"))\n",
    "        seq=str( hit.getSequence())\n",
    "        print(\" - Peptide hit sequence:\", hit.getSequence())\n",
    "        tsg = TheoreticalSpectrumGenerator()\n",
    "        theo_spec = MSSpectrum()\n",
    "        p = Param()\n",
    "        p.setValue(\"add_y_ions\", \"true\")\n",
    "        p.setValue(\"add_b_ions\", \"true\")\n",
    "        p.setValue(\"add_metainfo\", \"true\")\n",
    "        tsg.setParameters(p)\n",
    "        peptide = AASequence.fromString(hit.getSequence().toString())\n",
    "        tsg.getSpectrum(theo_spec, peptide, 1, 2)\n",
    "        # Iterate over annotated ions and their masses\n",
    "        print(\"Spectrum 1 of\", peptide, \"has\", theo_spec.size(), \"peaks.\")\n",
    "        for ion, peak in zip(theo_spec.getStringDataArrays()[0], theo_spec):\n",
    "            print(ion.decode(), \"is generated at m/z\", peak.getMZ())\n",
    "        exp = MSExperiment()\n",
    "        MzMLFile().load(\"ea.mzML\", exp)\n",
    "        spectra = exp.getSpectrum(peptide_id.getMetaValue(\"scan_index\"))\n",
    "        alignment = []\n",
    "        spa = SpectrumAlignment()\n",
    "        p = spa.getParameters()\n",
    "        # use 0.5 Da tolerance (Note: for high-resolution data we could also use ppm by setting the is_relative_tolerance value to true)\n",
    "        p.setValue(\"tolerance\", 0.5)\n",
    "        p.setValue(\"is_relative_tolerance\", \"false\")\n",
    "        spa.setParameters(p)\n",
    "        # align both spectra\n",
    "        spa.getSpectrumAlignment(alignment, theo_spec, spectra)\n",
    "\n",
    "        # Print matching ions and mz from theoretical spectrum\n",
    "        if(len(alignment)!=0):\n",
    "            print(\"Number of matched peaks: \" + str(len(alignment)))\n",
    "            print(\"ion\\ttheo. m/z\\tobserved m/z\")\n",
    "\n",
    "        \n",
    "            for theo_idx, obs_idx in alignment:\n",
    "                ion_name = theo_spec.getStringDataArrays()[0][theo_idx].decode()\n",
    "                ion_charge = theo_spec.getIntegerDataArrays()[0][theo_idx]\n",
    "                print(ion_name + \"\\t\" + str(ion_charge) + \"\\t\"\n",
    "                      + str(theo_spec[theo_idx].getMZ())\n",
    "                      + \"\\t\" + str(spectra[obs_idx].getMZ()))\n",
    "\n",
    "            theo_mz, theo_int, obs_mz, obs_int = [], [], [], []\n",
    "            for theo_idx, obs_idx in alignment:\n",
    "                theo_mz.append(theo_spec[theo_idx].getMZ())\n",
    "                theo_int.append(theo_spec[theo_idx].getIntensity())\n",
    "                obs_mz.append(spectra[obs_idx].getMZ())\n",
    "                obs_int.append(spectra[obs_idx].getIntensity())\n",
    "            if(max(obs_int)!=0):\n",
    "                title =\"The Seq :\"+ seq+\" & The index:\"+index\n",
    "                mirror_plot(obs_mz, obs_int, theo_mz, theo_int, title)\n",
    "        \n"
   ]
  },
  {
   "cell_type": "code",
   "execution_count": null,
   "metadata": {},
   "outputs": [],
   "source": []
  }
 ],
 "metadata": {
  "kernelspec": {
   "display_name": "Python 3",
   "language": "python",
   "name": "python3"
  },
  "language_info": {
   "codemirror_mode": {
    "name": "ipython",
    "version": 3
   },
   "file_extension": ".py",
   "mimetype": "text/x-python",
   "name": "python",
   "nbconvert_exporter": "python",
   "pygments_lexer": "ipython3",
   "version": "3.8.5"
  }
 },
 "nbformat": 4,
 "nbformat_minor": 5
}
