{
 "cells": [
  {
   "cell_type": "code",
   "execution_count": 1,
   "metadata": {},
   "outputs": [],
   "source": [
    "from pyopenms import *\n",
    "import matplotlib.pyplot as plt"
   ]
  },
  {
   "cell_type": "code",
   "execution_count": 2,
   "metadata": {},
   "outputs": [],
   "source": [
    "def mirror_plot(obs_mz, obs_int, theo_mz, theo_int, title):\n",
    "    \n",
    "    obs_int = [element / max(obs_int) for element in obs_int]  # relative intenstiy\n",
    "    theo_int = [element * -1 for element in theo_int]  # invert the intensity for the mirror plot\n",
    "    plt.figure(figsize=(12, 8))\n",
    "    plt.bar(obs_mz, obs_int, width=3.0)\n",
    "    plt.bar(theo_mz, theo_int, width=3.0)\n",
    "    plt.title(title)\n",
    "    plt.ylabel('intensity')\n",
    "    plt.xlabel('m/z')\n",
    "    plt.show()"
   ]
  },
  {
   "cell_type": "code",
   "execution_count": 3,
   "metadata": {},
   "outputs": [],
   "source": [
    "protein_ids = []\n",
    "peptide_ids = []\n",
    "SimpleSearchEngineAlgorithm().search(\"y10.mzML\", \"yeast9.fasta\", protein_ids, peptide_ids)"
   ]
  },
  {
   "cell_type": "code",
   "execution_count": 4,
   "metadata": {},
   "outputs": [
    {
     "name": "stdout",
     "output_type": "stream",
     "text": [
      "===================================\n",
      "Peptide Index m/z: 6610\n",
      " - Peptide hit sequence: NLNLIQPK\n",
      "Spectrum 1 of NLNLIQPK has 26 peaks.\n",
      "y1++ is generated at m/z 74.06004069007102\n",
      "b2++ is generated at m/z 114.570772737921\n",
      "y2++ is generated at m/z 122.586422801721\n",
      "y1+ is generated at m/z 147.112804913371\n",
      "b3++ is generated at m/z 171.592236833621\n",
      "y3++ is generated at m/z 186.615711929321\n",
      "b2+ is generated at m/z 228.134269009071\n",
      "b4++ is generated at m/z 228.134269009071\n",
      "y4++ is generated at m/z 243.157744104771\n",
      "y2+ is generated at m/z 244.16556913667102\n",
      "b5++ is generated at m/z 284.676301184521\n",
      "y5++ is generated at m/z 299.699776280221\n",
      "b3+ is generated at m/z 342.177197200471\n",
      "b6++ is generated at m/z 348.705590312121\n",
      "y6++ is generated at m/z 356.721240375921\n",
      "y3+ is generated at m/z 372.22414739187104\n",
      "b7++ is generated at m/z 397.23197242377097\n",
      "y7++ is generated at m/z 413.263272551371\n",
      "b4+ is generated at m/z 455.26126155137104\n",
      "y4+ is generated at m/z 485.30821174277105\n",
      "b5+ is generated at m/z 568.345325902271\n",
      "y5+ is generated at m/z 598.392276093671\n",
      "b6+ is generated at m/z 696.4039041574711\n",
      "y6+ is generated at m/z 712.435204285071\n",
      "b7+ is generated at m/z 793.456668380771\n",
      "y7+ is generated at m/z 825.519268635971\n",
      "Number of matched peaks: 9\n",
      "ion\ttheo. m/z\tobserved m/z\n",
      "y2+\t1\t244.16556913667102\t244.0880126953125\n",
      "b7++\t2\t397.23197242377097\t397.25\n",
      "b4+\t1\t455.26126155137104\t455.0299987792969\n",
      "y4+\t1\t485.30821174277105\t485.1050109863281\n",
      "y5+\t1\t598.392276093671\t598.6710205078125\n",
      "b6+\t1\t696.4039041574711\t696.322998046875\n",
      "y6+\t1\t712.435204285071\t712.2900390625\n",
      "b7+\t1\t793.456668380771\t793.216064453125\n",
      "y7+\t1\t825.519268635971\t825.051025390625\n"
     ]
    },
    {
     "data": {
      "image/png": "[encoded data removed]",
      "text/plain": [
       "<Figure size 864x576 with 1 Axes>"
      ]
     },
     "metadata": {
      "needs_background": "light"
     },
     "output_type": "display_data"
    },
    {
     "name": "stdout",
     "output_type": "stream",
     "text": [
      "===================================\n",
      "Peptide Index m/z: 10688\n",
      " - Peptide hit sequence: ILQESSIAQFDR\n",
      "Spectrum 1 of ILQESSIAQFDR has 42 peaks.\n",
      "y1++ is generated at m/z 88.06311469007102\n",
      "b2++ is generated at m/z 114.091340817671\n",
      "y2++ is generated at m/z 145.576586769821\n",
      "y1+ is generated at m/z 175.118952913371\n",
      "b3++ is generated at m/z 178.120629945271\n",
      "y3++ is generated at m/z 219.11079391337103\n",
      "b2+ is generated at m/z 227.175405168571\n",
      "b4++ is generated at m/z 242.641927056921\n",
      "y4++ is generated at m/z 283.14008304097104\n",
      "b5++ is generated at m/z 286.157941636671\n",
      "y2+ is generated at m/z 290.14589707287104\n",
      "y5++ is generated at m/z 318.65864012072103\n",
      "b6++ is generated at m/z 329.673956216421\n",
      "b3+ is generated at m/z 355.233983423771\n",
      "y6++ is generated at m/z 375.20067229617104\n",
      "b7++ is generated at m/z 386.215988391871\n",
      "y7++ is generated at m/z 418.716686875921\n",
      "b8++ is generated at m/z 421.734545471621\n",
      "y3+ is generated at m/z 437.2143113599711\n",
      "y8++ is generated at m/z 462.232701455671\n",
      "b4+ is generated at m/z 484.276577647071\n",
      "b9++ is generated at m/z 485.763834599221\n",
      "y9++ is generated at m/z 526.753998567321\n",
      "b10++ is generated at m/z 559.298041742771\n",
      "y4+ is generated at m/z 565.272889615171\n",
      "b5+ is generated at m/z 571.308606806571\n",
      "y10++ is generated at m/z 590.783287694921\n",
      "b11++ is generated at m/z 616.8115138225211\n",
      "y5+ is generated at m/z 636.310003774671\n",
      "y11++ is generated at m/z 647.325319870371\n",
      "b6+ is generated at m/z 658.340635966071\n",
      "y6+ is generated at m/z 749.394068125571\n",
      "b7+ is generated at m/z 771.424700316971\n",
      "y7+ is generated at m/z 836.426097285071\n",
      "b8+ is generated at m/z 842.461814476471\n",
      "y8+ is generated at m/z 923.458126444571\n",
      "b9+ is generated at m/z 970.520392731671\n",
      "y9+ is generated at m/z 1052.500720667871\n",
      "b10+ is generated at m/z 1117.5888070187711\n",
      "y10+ is generated at m/z 1180.559298923071\n",
      "b11+ is generated at m/z 1232.6157511782712\n",
      "y11+ is generated at m/z 1293.643363273971\n",
      "Number of matched peaks: 8\n",
      "ion\ttheo. m/z\tobserved m/z\n",
      "b7++\t2\t386.215988391871\t386.4150085449219\n",
      "y7++\t2\t418.716686875921\t418.4040222167969\n",
      "y3+\t1\t437.2143113599711\t437.2740478515625\n",
      "y4+\t1\t565.272889615171\t565.4010009765625\n",
      "y10++\t2\t590.783287694921\t591.0599975585938\n",
      "b11++\t2\t616.8115138225211\t616.7300415039062\n",
      "y5+\t1\t636.310003774671\t636.43701171875\n",
      "y7+\t1\t836.426097285071\t835.9520263671875\n"
     ]
    },
    {
     "data": {
      "image/png": "[encoded data removed]",
      "text/plain": [
       "<Figure size 864x576 with 1 Axes>"
      ]
     },
     "metadata": {
      "needs_background": "light"
     },
     "output_type": "display_data"
    }
   ],
   "source": [
    "for peptide_id in peptide_ids:\n",
    "    print (35*\"=\")\n",
    "    print (\"Peptide Index m/z:\", peptide_id.getMetaValue(\"scan_index\"))\n",
    "    for hit in peptide_id.getHits():\n",
    "        index=str(peptide_id.getMetaValue(\"scan_index\"))\n",
    "        seq=str( hit.getSequence())\n",
    "        print(\" - Peptide hit sequence:\", hit.getSequence())\n",
    "        tsg = TheoreticalSpectrumGenerator()\n",
    "        theo_spec = MSSpectrum()\n",
    "        p = Param()\n",
    "        p.setValue(\"add_y_ions\", \"true\")\n",
    "        p.setValue(\"add_b_ions\", \"true\")\n",
    "        p.setValue(\"add_metainfo\", \"true\")\n",
    "        tsg.setParameters(p)\n",
    "        peptide = AASequence.fromString(hit.getSequence().toString())\n",
    "        tsg.getSpectrum(theo_spec, peptide, 1, 2)\n",
    "        # Iterate over annotated ions and their masses\n",
    "        print(\"Spectrum 1 of\", peptide, \"has\", theo_spec.size(), \"peaks.\")\n",
    "        for ion, peak in zip(theo_spec.getStringDataArrays()[0], theo_spec):\n",
    "            print(ion.decode(), \"is generated at m/z\", peak.getMZ())\n",
    "        exp = MSExperiment()\n",
    "        MzMLFile().load(\"y10.mzML\", exp)\n",
    "        spectra = exp.getSpectrum(peptide_id.getMetaValue(\"scan_index\"))\n",
    "        alignment = []\n",
    "        spa = SpectrumAlignment()\n",
    "        p = spa.getParameters()\n",
    "        # use 0.5 Da tolerance (Note: for high-resolution data we could also use ppm by setting the is_relative_tolerance value to true)\n",
    "        p.setValue(\"tolerance\", 0.5)\n",
    "        p.setValue(\"is_relative_tolerance\", \"false\")\n",
    "        spa.setParameters(p)\n",
    "        # align both spectra\n",
    "        spa.getSpectrumAlignment(alignment, theo_spec, spectra)\n",
    "\n",
    "        # Print matching ions and mz from theoretical spectrum\n",
    "        if(len(alignment)!=0):\n",
    "            print(\"Number of matched peaks: \" + str(len(alignment)))\n",
    "            print(\"ion\\ttheo. m/z\\tobserved m/z\")\n",
    "\n",
    "        \n",
    "            for theo_idx, obs_idx in alignment:\n",
    "                ion_name = theo_spec.getStringDataArrays()[0][theo_idx].decode()\n",
    "                ion_charge = theo_spec.getIntegerDataArrays()[0][theo_idx]\n",
    "                print(ion_name + \"\\t\" + str(ion_charge) + \"\\t\"\n",
    "                      + str(theo_spec[theo_idx].getMZ())\n",
    "                      + \"\\t\" + str(spectra[obs_idx].getMZ()))\n",
    "\n",
    "            theo_mz, theo_int, obs_mz, obs_int = [], [], [], []\n",
    "            for theo_idx, obs_idx in alignment:\n",
    "                theo_mz.append(theo_spec[theo_idx].getMZ())\n",
    "                theo_int.append(theo_spec[theo_idx].getIntensity())\n",
    "                obs_mz.append(spectra[obs_idx].getMZ())\n",
    "                obs_int.append(spectra[obs_idx].getIntensity())\n",
    "            if(max(obs_int)!=0):\n",
    "                title =\"The Seq :\"+ seq+\" & The index:\"+index\n",
    "                mirror_plot(obs_mz, obs_int, theo_mz, theo_int, title)\n",
    "        "
   ]
  },
  {
   "cell_type": "code",
   "execution_count": null,
   "metadata": {},
   "outputs": [],
   "source": []
  }
 ],
 "metadata": {
  "kernelspec": {
   "display_name": "Python 3",
   "language": "python",
   "name": "python3"
  },
  "language_info": {
   "codemirror_mode": {
    "name": "ipython",
    "version": 3
   },
   "file_extension": ".py",
   "mimetype": "text/x-python",
   "name": "python",
   "nbconvert_exporter": "python",
   "pygments_lexer": "ipython3",
   "version": "3.7.4"
  }
 },
 "nbformat": 4,
 "nbformat_minor": 2
}
